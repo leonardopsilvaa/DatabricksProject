{
 "cells": [
  {
   "cell_type": "markdown",
   "metadata": {},
   "source": [
    "\n",
    "####  Ingerindo o arquivo torneios ###\n",
    "\n",
    "Objetivo: realizar um processo de ETL e disponibilizar os dados em uma camada apropriada\n",
    "\n",
    "Ler -> Transformar -> Escrever (ETL)\n",
    "\n",
    "1. Ler o arquivo csv do Data Lake\n",
    "2. Renomear as colunas para português utilizando o snake case\n",
    "3. Definir o esquema de dados correto\n",
    "4. Precisa ter uma coluna com a data em que o arquivo foi consumido\n",
    "5. Salvar os dados em formato parquet na camada silver\n",
    "\n",
    "\n"
   ]
  },
  {
   "cell_type": "markdown",
   "metadata": {},
   "source": [
    "### Importando as bibliotecas necessárias"
   ]
  },
  {
   "cell_type": "code",
   "execution_count": null,
   "metadata": {},
   "outputs": [],
   "source": [
    "from pyspark.sql.functions import current_timestamp, lit #função que traz a data atual\n",
    "from pyspark.sql.types import BooleanType # função que retorna o tipo booleano"
   ]
  },
  {
   "cell_type": "markdown",
   "metadata": {},
   "source": [
    "### Lendo o arquivo csv"
   ]
  },
  {
   "cell_type": "code",
   "execution_count": null,
   "metadata": {},
   "outputs": [],
   "source": [
    "nome_arquivo = \"torneios\"\n",
    "caminho_arquivo = f\"/mnt/datalake/bronze/{nome_arquivo}.csv\"\n",
    "\n",
    "torneios_df = spark.read\n",
    ".option(\"encondig\", \"UTF-16\")\n",
    ".option(\"header\", \"true\")\n",
    ".option(\"inferSchema\", \"true\")\n",
    ".csv(caminho arquivo)\n",
    "\n",
    "display(torneios_df)"
   ]
  },
  {
   "cell_type": "code",
   "execution_count": null,
   "metadata": {},
   "outputs": [],
   "source": [
    "# Visualizar o schema do dataframe criado\n",
    "torneios_df.printSchema()"
   ]
  },
  {
   "cell_type": "markdown",
   "metadata": {},
   "source": [
    "### Renomeando colunas"
   ]
  },
  {
   "cell_type": "code",
   "execution_count": null,
   "metadata": {},
   "outputs": [],
   "source": [
    "# Renomear as colunas para português\n",
    "\n",
    "torneios_df_renomeado = torneios_df \\\n",
    "    .withColumnRenamed(\"league_id\", \"id_torneio\") \\\n",
    "    .withColumnRenamed(\"league_name\", \"nm_torneio\") \\\n",
    "    .withColumnRenamed(\"country_name\", \"nm_pais\") \\\n",
    "    .withColumnRenamed(\"country_code\", \"cd_pais\") \\\n",
    "    .withColumnRenamed(\"season_year\", \"ano_torneio\") \\\n",
    "    .withColumnRenamed(\"season_start\", \"dt_inicio\") \\\n",
    "    .withColumnRenamed(\"season_end\", \"dt_fim\") \\\n",
    "    .withColumnRenamed(\"season_curent\", \"e_atual\")\n",
    "\n",
    "display(torneios_df_renomeado)"
   ]
  },
  {
   "cell_type": "code",
   "execution_count": null,
   "metadata": {},
   "outputs": [],
   "source": [
    "# Incluir a coluna de data de execução do script\n",
    "\n",
    "torneios_df_data = torneios_df_renomeado.withColumn(\"dt_ingestao\", current_timestamp())\n",
    "display(torneios_df_data)"
   ]
  },
  {
   "cell_type": "code",
   "execution_count": null,
   "metadata": {},
   "outputs": [],
   "source": [
    "# Converter a coluna e_atual para o tipo lógico (está salvo como string)\n",
    "torneios_df_retipado = torneios_df_data.withColumn(\"e_atual\", torneios_df_data.e_atual.cast(BooleanType()))"
   ]
  },
  {
   "cell_type": "code",
   "execution_count": null,
   "metadata": {},
   "outputs": [],
   "source": [
    "# Inclusão de uma coluna com o texto literal \"Brasil\" em todas as linhas - desafio adicional\n",
    "torneios_df_final = torneios_df_retipado.withColumn(\"nm_traduzido\", lit(\"Brasil\"))"
   ]
  },
  {
   "cell_type": "code",
   "execution_count": null,
   "metadata": {},
   "outputs": [],
   "source": [
    "# essa parte escreve o arquivo formato parquet na pasta silver\n",
    "# Se o arquivo já existir, ele irá sobrescrever\n",
    "torneios_df_final.write.mode(\"overwrite\").parquet(f\"/mnt/datalake/silver/{nome_arquivo}\")"
   ]
  }
 ],
 "metadata": {
  "language_info": {
   "name": "python"
  }
 },
 "nbformat": 4,
 "nbformat_minor": 2
}
